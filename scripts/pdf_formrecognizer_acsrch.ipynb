{
 "cells": [
  {
   "cell_type": "code",
   "execution_count": 1,
   "metadata": {},
   "outputs": [],
   "source": [
    "import os\n",
    "import glob\n",
    "import html\n",
    "import io\n",
    "import re\n",
    "import time\n",
    "from pypdf import PdfReader, PdfWriter\n",
    "from azure.core.credentials import AzureKeyCredential\n",
    "from azure.storage.blob import BlobServiceClient\n",
    "from azure.search.documents.indexes import SearchIndexClient\n",
    "from azure.search.documents.indexes.models import *\n",
    "from azure.search.documents import SearchClient\n",
    "from azure.ai.formrecognizer import DocumentAnalysisClient\n",
    "\n",
    "from dotenv import load_dotenv\n",
    "load_dotenv()\n",
    "\n",
    "connect_str = os.getenv('AZURE_STORAGE_CONNECTION_STRING')"
   ]
  },
  {
   "cell_type": "code",
   "execution_count": 6,
   "metadata": {},
   "outputs": [],
   "source": [
    "def blob_name_from_file_page(filename, page = 0):\n",
    "        if os.path.splitext(filename)[1].lower() == \".pdf\":\n",
    "            return os.path.splitext(os.path.basename(filename))[0] + f\"-{page}\" + \".pdf\"\n",
    "        else:\n",
    "            return os.path.basename(filename)\n",
    "\n",
    "def upload_blobs(filename,container,connect_str,verbose:str='True'):\n",
    "    # connect_str = os.getenv('AZURE_STORAGE_CONNECTION_STRING')\n",
    "    blob_service =  BlobServiceClient.from_connection_string(connect_str)\n",
    "    blob_container = blob_service.get_container_client(container)\n",
    "    if not blob_container.exists():\n",
    "        blob_container.create_container()\n",
    "\n",
    "    # if file is PDF split into pages and upload each page as a separate blob\n",
    "    if os.path.splitext(filename)[1].lower() == \".pdf\":\n",
    "        reader = PdfReader(filename)\n",
    "        pages = reader.pages\n",
    "        for i in range(len(pages)):\n",
    "            blob_name = blob_name_from_file_page(filename, i)\n",
    "            if verbose: print(f\"\\tUploading blob for page {i} -> {blob_name}\")\n",
    "            f = io.BytesIO()\n",
    "            writer = PdfWriter()\n",
    "            writer.add_page(pages[i])\n",
    "            writer.write(f)\n",
    "            f.seek(0)\n",
    "            blob_container.upload_blob(blob_name, f, overwrite=True)\n",
    "    else:\n",
    "        blob_name = blob_name_from_file_page(filename)\n",
    "        with open(filename,\"rb\") as data:\n",
    "            blob_container.upload_blob(blob_name, data, overwrite=True)"
   ]
  },
  {
   "cell_type": "code",
   "execution_count": 2,
   "metadata": {},
   "outputs": [],
   "source": [
    "def blob_name_from_file_page(filename, page = 0):\n",
    "        if os.path.splitext(filename)[1].lower() == \".pdf\":\n",
    "            return os.path.splitext(os.path.basename(filename))[0] + f\"-{page}\" + \".pdf\"\n",
    "        else:\n",
    "            return os.path.basename(filename)\n",
    "        \n",
    "def upload_blobs(filename, container, connect_str, verbose: str = 'True'):\n",
    "    # connect_str = os.getenv('AZURE_STORAGE_CONNECTION_STRING')\n",
    "    blob_service = BlobServiceClient.from_connection_string(connect_str)\n",
    "    blob_container = blob_service.get_container_client(container)\n",
    "    if not blob_container.exists():\n",
    "        blob_container.create_container()\n",
    "\n",
    "    # Find all PDF files matching the filename pattern\n",
    "    pdf_files = glob.glob(filename)\n",
    "    for pdf_file in pdf_files:\n",
    "        reader = PdfReader(pdf_file)\n",
    "        pages = reader.pages\n",
    "        for i in range(len(pages)):\n",
    "            blob_name = blob_name_from_file_page(pdf_file, i)\n",
    "            if verbose: print(f\"\\tUploading blob for page {i} of file {pdf_file} -> {blob_name}\")\n",
    "            f = io.BytesIO()\n",
    "            writer = PdfWriter()\n",
    "            writer.add_page(pages[i])\n",
    "            writer.write(f)\n",
    "            f.seek(0)\n",
    "            blob_container.upload_blob(blob_name, f, overwrite=True)\n"
   ]
  },
  {
   "cell_type": "code",
   "execution_count": 3,
   "metadata": {},
   "outputs": [
    {
     "name": "stdout",
     "output_type": "stream",
     "text": [
      "\tUploading blob for page 0 of file ../data\\캐롯 해외여행보험 약관.pdf -> 캐롯 해외여행보험 약관-0.pdf\n",
      "\tUploading blob for page 1 of file ../data\\캐롯 해외여행보험 약관.pdf -> 캐롯 해외여행보험 약관-1.pdf\n",
      "\tUploading blob for page 2 of file ../data\\캐롯 해외여행보험 약관.pdf -> 캐롯 해외여행보험 약관-2.pdf\n",
      "\tUploading blob for page 3 of file ../data\\캐롯 해외여행보험 약관.pdf -> 캐롯 해외여행보험 약관-3.pdf\n",
      "\tUploading blob for page 4 of file ../data\\캐롯 해외여행보험 약관.pdf -> 캐롯 해외여행보험 약관-4.pdf\n",
      "\tUploading blob for page 5 of file ../data\\캐롯 해외여행보험 약관.pdf -> 캐롯 해외여행보험 약관-5.pdf\n",
      "\tUploading blob for page 6 of file ../data\\캐롯 해외여행보험 약관.pdf -> 캐롯 해외여행보험 약관-6.pdf\n",
      "\tUploading blob for page 7 of file ../data\\캐롯 해외여행보험 약관.pdf -> 캐롯 해외여행보험 약관-7.pdf\n"
     ]
    }
   ],
   "source": [
    "\n",
    "upload_blobs('../data/*.pdf','docsksw',connect_str)"
   ]
  },
  {
   "cell_type": "code",
   "execution_count": null,
   "metadata": {},
   "outputs": [],
   "source": [
    "# if args.removeall:\n",
    "#     remove_blobs(None)\n",
    "#     remove_from_index(None)\n",
    "# else:\n",
    "#     if not args.remove:\n",
    "#         create_search_index()\n",
    "    \n",
    "#     print(f\"Processing files...\")\n",
    "#     for filename in glob.glob(args.files):\n",
    "#         if args.verbose: print(f\"Processing '{filename}'\")\n",
    "#         if args.remove:\n",
    "#             remove_blobs(filename)\n",
    "#             remove_from_index(filename)\n",
    "#         elif args.removeall:\n",
    "#             remove_blobs(None)\n",
    "#             remove_from_index(None)\n",
    "#         else:\n",
    "#             if not args.skipblobs:\n",
    "#                 upload_blobs(filename)\n",
    "#             page_map = get_document_text(filename)\n",
    "#             sections = create_sections(os.path.basename(filename), page_map)\n",
    "#             index_sections(os.path.basename(filename), sections)"
   ]
  }
 ],
 "metadata": {
  "kernelspec": {
   "display_name": ".venv",
   "language": "python",
   "name": "python3"
  },
  "language_info": {
   "codemirror_mode": {
    "name": "ipython",
    "version": 3
   },
   "file_extension": ".py",
   "mimetype": "text/x-python",
   "name": "python",
   "nbconvert_exporter": "python",
   "pygments_lexer": "ipython3",
   "version": "3.11.4"
  },
  "orig_nbformat": 4
 },
 "nbformat": 4,
 "nbformat_minor": 2
}
